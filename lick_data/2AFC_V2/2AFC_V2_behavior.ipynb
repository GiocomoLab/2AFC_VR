{
 "cells": [
  {
   "cell_type": "code",
   "execution_count": 2,
   "metadata": {
    "collapsed": false
   },
   "outputs": [],
   "source": [
    "import numpy as np\n",
    "from matplotlib import pyplot as plt\n",
    "import scipy as sp\n",
    "import sys\n",
    "sys.path.insert(0,\"/Users/markplitt/repos/2AFC_VR/lick_data\")\n",
    "from behavioral_data import process_data as pd\n",
    "import behavioral_data as bd\n",
    "\n",
    "%matplotlib inline\n",
    "\n",
    "#mice= ['4012587.0', '4012587.1','4012587.2','4012587.3','4012590.0']\n",
    "mice = [ '4012587.1','4012590.0']\n",
    "mice = ['4012590.0']"
   ]
  },
  {
   "cell_type": "code",
   "execution_count": 3,
   "metadata": {
    "collapsed": false
   },
   "outputs": [
    {
     "name": "stdout",
     "output_type": "stream",
     "text": [
      "4012590.0\n"
     ]
    }
   ],
   "source": [
    "for mouse in mice:\n",
    "    print(mouse)\n",
    "    c = pd(mouse,[])\n",
    "    c.save_sessions()\n",
    "    \n",
    "    R,D = c.load_sessions()\n",
    "    \n",
    "    for sess in c.sessions:\n",
    "        print(sess)\n",
    "        try:\n",
    "            bd.reward_trig_lick_rate(R[sess],title=mouse+'_'+sess)\n",
    "            mv, pRight,RT, omit = bd.psychometrics(R[sess],title=mouse+'_'+sess,plots='all')\n",
    "        except:\n",
    "            print(\"plot fail\")\n",
    "            \n"
   ]
  },
  {
   "cell_type": "code",
   "execution_count": 3,
   "metadata": {
    "collapsed": false
   },
   "outputs": [
    {
     "name": "stdout",
     "output_type": "stream",
     "text": [
      "[]\n"
     ]
    }
   ],
   "source": [
    "mouse = mice[-1]\n",
    "c = pd(mouse,[])\n",
    "c.save_sessions()\n",
    "print(c.sessions)"
   ]
  },
  {
   "cell_type": "code",
   "execution_count": null,
   "metadata": {
    "collapsed": true
   },
   "outputs": [],
   "source": []
  }
 ],
 "metadata": {
  "anaconda-cloud": {},
  "kernelspec": {
   "display_name": "Python [Root]",
   "language": "python",
   "name": "Python [Root]"
  },
  "language_info": {
   "codemirror_mode": {
    "name": "ipython",
    "version": 3
   },
   "file_extension": ".py",
   "mimetype": "text/x-python",
   "name": "python",
   "nbconvert_exporter": "python",
   "pygments_lexer": "ipython3",
   "version": "3.5.2"
  }
 },
 "nbformat": 4,
 "nbformat_minor": 2
}
