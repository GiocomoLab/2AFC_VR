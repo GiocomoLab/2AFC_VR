{
 "cells": [
  {
   "cell_type": "code",
   "execution_count": 1,
   "metadata": {
    "collapsed": true
   },
   "outputs": [],
   "source": [
    "import numpy as np\n",
    "import matplotlib.pyplot as plt\n",
    "import os\n",
    "from glob import glob as glb\n",
    "import scipy as sp\n",
    "import json\n",
    "\n",
    "%matplotlib inline"
   ]
  },
  {
   "cell_type": "code",
   "execution_count": 5,
   "metadata": {
    "collapsed": true
   },
   "outputs": [],
   "source": [
    "mouse = \"3984673.0\"\n",
    "sessions = \"1_LR\""
   ]
  },
  {
   "cell_type": "markdown",
   "metadata": {},
   "source": [
    "for each session save the following dictionary as a json file\n",
    "\n",
    "session type\n",
    "    subdict for each session\n",
    "        put all of the following on the same grid and save as lists indexed by trial: (Json file 1)\n",
    "            1) time\n",
    "            2) speed \n",
    "            3) position \n",
    "            4) reward cam flag\n",
    "            5) left reward flag\n",
    "            6) right reward flag\n",
    "            7) left licks\n",
    "            8) right licks\n",
    "            9) manual left rewards\n",
    "            10) manual right rewards\n",
    "            11) punishments\n",
    "        other lists to save indexed by trial:\n",
    "            1) morph value\n",
    "                        \n",
    "        np arrays (json file 2)\n",
    "            1) reward cam triggered licks w vectors indicating morph value and trial number\n",
    "            2) reaction time w vectors of lick side, morph value, and trial number\n",
    "            3) correct cam responses (boolean-like)\n",
    "            \n",
    "        \n",
    "\n"
   ]
  },
  {
   "cell_type": "code",
   "execution_count": 7,
   "metadata": {
    "collapsed": false
   },
   "outputs": [],
   "source": [
    "class behavioral_data:\n",
    "    \n",
    "    def _init_(self,mouse,sessions,filename,basedir=\"home\"):\n",
    "        if basedir == \"home\":\n",
    "            basestr = \"/Volumes/mplitt/VR/\" + mouse + \"/\"\n",
    "        elif basedir == \"work\":\n",
    "            basestr = \"Z://VR/\" + mouse + \"/\"\n",
    "        else:\n",
    "            raise Exception(\"Invalid basedir!..options are 'home' or 'work' \")\n",
    "        \n",
    "        self.basestr = basestr\n",
    "            \n",
    "        \n",
    "        \n",
    "        if len(list(sessions)) == 0: # if no sessions are specified, find all of them\n",
    "            data_files = glb(basestr + \"*_licks.txt\" )\n",
    "            sessions = [(i.split(basestr)[1]).split(\"_licks.txt\")[0] for i in data_files]\n",
    "        else:\n",
    "            pass\n",
    "            \n",
    "        \n",
    "           \n",
    "        #old_inst = self.load_prev_dict(filename,basestr)\n",
    "        #if old_inst != None:\n",
    "        #    self.update_dict(old_inst,sessions)\n",
    "            \n",
    "        #else:\n",
    "        self.sessions = sessions\n",
    "        self.mouse = mouse\n",
    "        self.data = {}\n",
    "                    \n",
    "        \n",
    "    def save_sessions(self):\n",
    "        pass\n",
    "    \n",
    "    def load_sessions(self):\n",
    "        pass\n",
    "    \n",
    "    def plot_reward_trig_lick_rate(self,plots=\"all\"):\n",
    "        pass\n",
    "    \n",
    "    def plot_reward_trig_speed(self):\n",
    "        pass\n",
    "    \n",
    "    def plot_percent_correct(self):\n",
    "        pass\n",
    "    \n",
    "    def plot_reaction_time(self):\n",
    "        pass\n",
    "    \n",
    "    def _load_prev_dict(self,filename,basestr):\n",
    "        if filename == \"\":\n",
    "             self.filename = basestr + mouse + \"_behavior.json\"\n",
    "        else:\n",
    "            self.filename = filename\n",
    "            \n",
    "        try:\n",
    "            with open(self.filename,'r') as f:\n",
    "                return json.load(f) # return saved instance\n",
    "        except:\n",
    "            return None\n",
    "         \n",
    "    def _save(self,data,fname):\n",
    "        with open(self.basestr + fname,'w') as f:\n",
    "            json.dump(data,f)\n",
    "    \n",
    "    def _update_dict(self,sessions):\n",
    "        for sess in session:\n",
    "            self.add_session_to_dict(sess)\n",
    "    \n",
    "    def _add_session_to_dict(sess)\n",
    "    \n",
    "    def _align_reward_licks(self):\n",
    "        pass\n",
    "    \n",
    "    def _interpolate_licks(self):\n",
    "        pass\n",
    "    \n",
    "    def _make_lick_dict(self):\n",
    "        pass\n",
    "    \n",
    "    def _make_speed_dict(self):\n",
    "        pass\n",
    "    \n",
    "    def _calc_speed(self):\n",
    "        pass\n",
    "    \n",
    "    def _smooth_speed(self):\n",
    "        pass\n",
    "    \n",
    "    "
   ]
  },
  {
   "cell_type": "code",
   "execution_count": null,
   "metadata": {
    "collapsed": true
   },
   "outputs": [],
   "source": []
  }
 ],
 "metadata": {
  "anaconda-cloud": {},
  "kernelspec": {
   "display_name": "Python [conda root]",
   "language": "python",
   "name": "conda-root-py"
  },
  "language_info": {
   "codemirror_mode": {
    "name": "ipython",
    "version": 3
   },
   "file_extension": ".py",
   "mimetype": "text/x-python",
   "name": "python",
   "nbconvert_exporter": "python",
   "pygments_lexer": "ipython3",
   "version": "3.5.2"
  }
 },
 "nbformat": 4,
 "nbformat_minor": 2
}
