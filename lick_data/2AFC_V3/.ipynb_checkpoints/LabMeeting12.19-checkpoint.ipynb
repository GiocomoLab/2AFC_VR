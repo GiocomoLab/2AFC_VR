{
 "cells": [
  {
   "cell_type": "code",
   "execution_count": null,
   "metadata": {
    "collapsed": true
   },
   "outputs": [],
   "source": [
    "# import stuff\n",
    "import numpy as np\n",
    "from matplotlib import pyplot as plt\n",
    "import scipy as sp\n",
    "from behavior_analysis import process_data as pd\n",
    "import behavior_analysis as bd\n",
    "from glob import glob\n",
    "import os\n",
    "\n",
    "\n",
    "%pylab inline\n",
    "%load_ext autoreload\n",
    "%autoreload 2"
   ]
  },
  {
   "cell_type": "code",
   "execution_count": null,
   "metadata": {
    "collapsed": true
   },
   "outputs": [],
   "source": [
    "# Learning Curve"
   ]
  },
  {
   "cell_type": "code",
   "execution_count": null,
   "metadata": {
    "collapsed": true
   },
   "outputs": [],
   "source": [
    "# sliding window % correct  v trial"
   ]
  },
  {
   "cell_type": "code",
   "execution_count": null,
   "metadata": {
    "collapsed": true
   },
   "outputs": [],
   "source": [
    "# psychometric curves (pr(lick right) v morph)"
   ]
  },
  {
   "cell_type": "code",
   "execution_count": null,
   "metadata": {
    "collapsed": true
   },
   "outputs": [],
   "source": [
    "# RT\n",
    "\n",
    "    # RT v morph\n",
    "    \n",
    "    \n",
    "    # RT corrrect v incorrect in binary morphs"
   ]
  },
  {
   "cell_type": "code",
   "execution_count": null,
   "metadata": {
    "collapsed": true
   },
   "outputs": [],
   "source": [
    "# running speed\n",
    "\n",
    "    # 1st half of track\n",
    "    \n",
    "        # v morph\n",
    "        \n",
    "        # correct v incorrect\n",
    "        \n",
    "        \n",
    "    # reward LED triggered \n",
    "        \n",
    "        # v morph\n",
    "        \n",
    "        # correct v incorrect\n",
    "        \n"
   ]
  }
 ],
 "metadata": {
  "kernelspec": {
   "display_name": "Python 3",
   "language": "python",
   "name": "python3"
  },
  "language_info": {
   "codemirror_mode": {
    "name": "ipython",
    "version": 3
   },
   "file_extension": ".py",
   "mimetype": "text/x-python",
   "name": "python",
   "nbconvert_exporter": "python",
   "pygments_lexer": "ipython3",
   "version": "3.6.3"
  }
 },
 "nbformat": 4,
 "nbformat_minor": 2
}
