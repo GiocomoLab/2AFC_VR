{
 "cells": [
  {
   "cell_type": "code",
   "execution_count": 1,
   "metadata": {
    "collapsed": false
   },
   "outputs": [
    {
     "name": "stdout",
     "output_type": "stream",
     "text": [
      "Populating the interactive namespace from numpy and matplotlib\n"
     ]
    }
   ],
   "source": [
    "# import stuff\n",
    "import numpy as np\n",
    "from matplotlib import pyplot as plt\n",
    "import scipy as sp\n",
    "from behavior_analysis import process_data as pd\n",
    "import behavior_analysis as bd\n",
    "from glob import glob\n",
    "import os\n",
    "\n",
    "\n",
    "%pylab inline\n",
    "%load_ext autoreload\n",
    "%autoreload 2"
   ]
  },
  {
   "cell_type": "code",
   "execution_count": 2,
   "metadata": {
    "collapsed": true
   },
   "outputs": [],
   "source": [
    "cageNum = \"4058541.\"\n",
    "home = \"/Volumes/mplitt/VR/2AFC_V3/\"\n",
    "home = \"Y:/VR/2AFC_V3/\"\n",
    "\n",
    "mice = ['.1','.2','.3','.4']\n",
    "\n"
   ]
  },
  {
   "cell_type": "code",
   "execution_count": 3,
   "metadata": {
    "collapsed": false
   },
   "outputs": [
    {
     "name": "stdout",
     "output_type": "stream",
     "text": [
      "['Y:/VR/2AFC_V3/4058541.1\\\\OneSidedCues_noservo_10__Licks.txt', 'Y:/VR/2AFC_V3/4058541.1\\\\OneSidedCues_noservo_7__Licks.txt', 'Y:/VR/2AFC_V3/4058541.1\\\\OneSidedCues_noservo_9__Licks.txt', 'Y:/VR/2AFC_V3/4058541.1\\\\OneSidedCues_noservo_2__Licks.txt', 'Y:/VR/2AFC_V3/4058541.1\\\\OneSidedCues_noservo_12__Licks.txt', 'Y:/VR/2AFC_V3/4058541.1\\\\OneSidedCues_noservo_5__Licks.txt', 'Y:/VR/2AFC_V3/4058541.1\\\\OneSidedCues_noservo_4__Licks.txt', 'Y:/VR/2AFC_V3/4058541.1\\\\OneSidedCues_noservo_9_1__Licks.txt', 'Y:/VR/2AFC_V3/4058541.1\\\\OneSidedCues_noservo_8__Licks.txt', 'Y:/VR/2AFC_V3/4058541.1\\\\OneSidedCues_noservo_3__Licks.txt', 'Y:/VR/2AFC_V3/4058541.1\\\\OneSidedCues_noservo_6__Licks.txt', 'Y:/VR/2AFC_V3/4058541.1\\\\OneSidedCues_noservo_1__Licks.txt', 'Y:/VR/2AFC_V3/4058541.1\\\\OneSidedCues_noservo_2_1__Licks.txt', 'Y:/VR/2AFC_V3/4058541.1\\\\OneSidedCues_noservo_11__Licks.txt']\n"
     ]
    },
    {
     "ename": "AttributeError",
     "evalue": "'os.stat_result' object has no attribute 'st_birthtime'",
     "output_type": "error",
     "traceback": [
      "\u001b[1;31m\u001b[0m",
      "\u001b[1;31mAttributeError\u001b[0mTraceback (most recent call last)",
      "\u001b[1;32m<ipython-input-3-50b0db84dfb4>\u001b[0m in \u001b[0;36m<module>\u001b[1;34m()\u001b[0m\n\u001b[0;32m     12\u001b[0m     \u001b[0mallFiles\u001b[0m\u001b[1;33m.\u001b[0m\u001b[0mextend\u001b[0m\u001b[1;33m(\u001b[0m\u001b[0mAFCTrainFiles\u001b[0m\u001b[1;33m)\u001b[0m\u001b[1;33m\u001b[0m\u001b[0m\n\u001b[0;32m     13\u001b[0m \u001b[1;33m\u001b[0m\u001b[0m\n\u001b[1;32m---> 14\u001b[1;33m     \u001b[0mfileBDays\u001b[0m \u001b[1;33m=\u001b[0m \u001b[1;33m[\u001b[0m\u001b[0mos\u001b[0m\u001b[1;33m.\u001b[0m\u001b[0mstat\u001b[0m\u001b[1;33m(\u001b[0m\u001b[0mpath_to_file\u001b[0m\u001b[1;33m)\u001b[0m\u001b[1;33m.\u001b[0m\u001b[0mst_birthtime\u001b[0m \u001b[1;32mfor\u001b[0m \u001b[0mpath_to_file\u001b[0m \u001b[1;32min\u001b[0m \u001b[0mallFiles\u001b[0m\u001b[1;33m]\u001b[0m\u001b[1;33m\u001b[0m\u001b[0m\n\u001b[0m\u001b[0;32m     15\u001b[0m     \u001b[0msortedFiles\u001b[0m \u001b[1;33m=\u001b[0m \u001b[1;33m[\u001b[0m\u001b[0mx\u001b[0m \u001b[1;32mfor\u001b[0m \u001b[0m_\u001b[0m\u001b[1;33m,\u001b[0m \u001b[0mx\u001b[0m \u001b[1;32min\u001b[0m \u001b[0msorted\u001b[0m\u001b[1;33m(\u001b[0m\u001b[0mzip\u001b[0m\u001b[1;33m(\u001b[0m\u001b[0mfileBDays\u001b[0m\u001b[1;33m,\u001b[0m\u001b[0mallFiles\u001b[0m\u001b[1;33m)\u001b[0m\u001b[1;33m,\u001b[0m \u001b[0mkey\u001b[0m\u001b[1;33m=\u001b[0m\u001b[1;32mlambda\u001b[0m \u001b[0mpair\u001b[0m\u001b[1;33m:\u001b[0m \u001b[0mpair\u001b[0m\u001b[1;33m[\u001b[0m\u001b[1;36m0\u001b[0m\u001b[1;33m]\u001b[0m\u001b[1;33m)\u001b[0m\u001b[1;33m]\u001b[0m\u001b[1;33m\u001b[0m\u001b[0m\n\u001b[0;32m     16\u001b[0m     \u001b[0msortedSessions\u001b[0m \u001b[1;33m=\u001b[0m \u001b[1;33m[\u001b[0m\u001b[0mi\u001b[0m\u001b[1;33m.\u001b[0m\u001b[0msplit\u001b[0m\u001b[1;33m(\u001b[0m\u001b[0mhome\u001b[0m\u001b[1;33m+\u001b[0m\u001b[0mcageNum\u001b[0m\u001b[1;33m+\u001b[0m\u001b[0mmouse\u001b[0m\u001b[1;33m+\u001b[0m\u001b[1;34m\"/\"\u001b[0m\u001b[1;33m)\u001b[0m\u001b[1;33m[\u001b[0m\u001b[1;36m1\u001b[0m\u001b[1;33m]\u001b[0m\u001b[1;33m.\u001b[0m\u001b[0msplit\u001b[0m\u001b[1;33m(\u001b[0m\u001b[1;34m\"_Licks.txt\"\u001b[0m\u001b[1;33m)\u001b[0m\u001b[1;33m[\u001b[0m\u001b[1;36m0\u001b[0m\u001b[1;33m]\u001b[0m \u001b[1;32mfor\u001b[0m \u001b[0mi\u001b[0m \u001b[1;32min\u001b[0m \u001b[0msortedFiles\u001b[0m\u001b[1;33m]\u001b[0m\u001b[1;33m\u001b[0m\u001b[0m\n",
      "\u001b[1;32m<ipython-input-3-50b0db84dfb4>\u001b[0m in \u001b[0;36m<listcomp>\u001b[1;34m(.0)\u001b[0m\n\u001b[0;32m     12\u001b[0m     \u001b[0mallFiles\u001b[0m\u001b[1;33m.\u001b[0m\u001b[0mextend\u001b[0m\u001b[1;33m(\u001b[0m\u001b[0mAFCTrainFiles\u001b[0m\u001b[1;33m)\u001b[0m\u001b[1;33m\u001b[0m\u001b[0m\n\u001b[0;32m     13\u001b[0m \u001b[1;33m\u001b[0m\u001b[0m\n\u001b[1;32m---> 14\u001b[1;33m     \u001b[0mfileBDays\u001b[0m \u001b[1;33m=\u001b[0m \u001b[1;33m[\u001b[0m\u001b[0mos\u001b[0m\u001b[1;33m.\u001b[0m\u001b[0mstat\u001b[0m\u001b[1;33m(\u001b[0m\u001b[0mpath_to_file\u001b[0m\u001b[1;33m)\u001b[0m\u001b[1;33m.\u001b[0m\u001b[0mst_birthtime\u001b[0m \u001b[1;32mfor\u001b[0m \u001b[0mpath_to_file\u001b[0m \u001b[1;32min\u001b[0m \u001b[0mallFiles\u001b[0m\u001b[1;33m]\u001b[0m\u001b[1;33m\u001b[0m\u001b[0m\n\u001b[0m\u001b[0;32m     15\u001b[0m     \u001b[0msortedFiles\u001b[0m \u001b[1;33m=\u001b[0m \u001b[1;33m[\u001b[0m\u001b[0mx\u001b[0m \u001b[1;32mfor\u001b[0m \u001b[0m_\u001b[0m\u001b[1;33m,\u001b[0m \u001b[0mx\u001b[0m \u001b[1;32min\u001b[0m \u001b[0msorted\u001b[0m\u001b[1;33m(\u001b[0m\u001b[0mzip\u001b[0m\u001b[1;33m(\u001b[0m\u001b[0mfileBDays\u001b[0m\u001b[1;33m,\u001b[0m\u001b[0mallFiles\u001b[0m\u001b[1;33m)\u001b[0m\u001b[1;33m,\u001b[0m \u001b[0mkey\u001b[0m\u001b[1;33m=\u001b[0m\u001b[1;32mlambda\u001b[0m \u001b[0mpair\u001b[0m\u001b[1;33m:\u001b[0m \u001b[0mpair\u001b[0m\u001b[1;33m[\u001b[0m\u001b[1;36m0\u001b[0m\u001b[1;33m]\u001b[0m\u001b[1;33m)\u001b[0m\u001b[1;33m]\u001b[0m\u001b[1;33m\u001b[0m\u001b[0m\n\u001b[0;32m     16\u001b[0m     \u001b[0msortedSessions\u001b[0m \u001b[1;33m=\u001b[0m \u001b[1;33m[\u001b[0m\u001b[0mi\u001b[0m\u001b[1;33m.\u001b[0m\u001b[0msplit\u001b[0m\u001b[1;33m(\u001b[0m\u001b[0mhome\u001b[0m\u001b[1;33m+\u001b[0m\u001b[0mcageNum\u001b[0m\u001b[1;33m+\u001b[0m\u001b[0mmouse\u001b[0m\u001b[1;33m+\u001b[0m\u001b[1;34m\"/\"\u001b[0m\u001b[1;33m)\u001b[0m\u001b[1;33m[\u001b[0m\u001b[1;36m1\u001b[0m\u001b[1;33m]\u001b[0m\u001b[1;33m.\u001b[0m\u001b[0msplit\u001b[0m\u001b[1;33m(\u001b[0m\u001b[1;34m\"_Licks.txt\"\u001b[0m\u001b[1;33m)\u001b[0m\u001b[1;33m[\u001b[0m\u001b[1;36m0\u001b[0m\u001b[1;33m]\u001b[0m \u001b[1;32mfor\u001b[0m \u001b[0mi\u001b[0m \u001b[1;32min\u001b[0m \u001b[0msortedFiles\u001b[0m\u001b[1;33m]\u001b[0m\u001b[1;33m\u001b[0m\u001b[0m\n",
      "\u001b[1;31mAttributeError\u001b[0m: 'os.stat_result' object has no attribute 'st_birthtime'"
     ]
    },
    {
     "data": {
      "image/png": "[encoded data removed]",
      "text/plain": [
       "<matplotlib.figure.Figure at 0x286db25e320>"
      ]
     },
     "metadata": {},
     "output_type": "display_data"
    }
   ],
   "source": [
    "# Learning Curves\n",
    "f, axarr = plt.subplots(4,1)\n",
    "for i,mouse in mice:\n",
    "    \n",
    "    \n",
    "    oneSidedFiles = glob(home+cageNum+mouse+\"/OneSidedCues_noservo_*Licks.txt\")\n",
    "    halfOneSidedFiles = glob(home+cageNum+mouse+\"/HalfOneSidedCue_noservo_*Licks.txt\")\n",
    "    AFCTrainFiles = glob(home+cageNum+mouse+\"/2AFC_Train_noservo_*Licks.txt\")\n",
    "    allFiles = [i for i in oneSidedFiles]\n",
    "    print(allFiles)\n",
    "    allFiles.extend(halfOneSidedFiles)\n",
    "    allFiles.extend(AFCTrainFiles)\n",
    "    \n",
    "    fileBDays = [os.stat(path_to_file).st_birthtime for path_to_file in allFiles]\n",
    "    sortedFiles = [x for _, x in sorted(zip(fileBDays,allFiles), key=lambda pair: pair[0])]\n",
    "    sortedSessions = [i.split(home+cageNum+mouse+\"/\")[1].split(\"_Licks.txt\")[0] for i in sortedFiles]\n",
    "    c = pd(cageNum+mouse,sortedSessions,basedir='home')\n",
    "    c.save_sessions()\n",
    "    \n",
    "    R,D = c.load_sessions()\n",
    "    PR = bd.plot_learning_curve(R,title=mouse,toPlot=False)\n",
    "    axarr[i].plot(PR[:,0],'k',PR[:,1],'r')\n",
    "    if i == 0:\n",
    "        plt.legend(['context 1','context 2'])\n",
    "        axarr[0].set_ylabel('P(lick port2)')\n",
    "        axarr[0].set_xlabel('session')\n",
    "    \n",
    "    axarr[0].axvline(len(oneSidedFiles)-1)\n",
    "    axarr[0].axvline(len(oneSidedFiles)+len(halfOneSidedFiles)-1)\n",
    "    \n",
    "    "
   ]
  },
  {
   "cell_type": "code",
   "execution_count": null,
   "metadata": {
    "collapsed": true
   },
   "outputs": [],
   "source": [
    "# sliding window % correct  v trial\n",
    "\n",
    "\n",
    "for mouse in mice:\n",
    "    allFiles = glob(home+cageNum+mouse+\"/2AFC_Test_noServo_*Licks.txt\")\n",
    "    fileBDays = [os.stat(path_to_file).st_birthtime for path_to_file in allFiles]\n",
    "    sortedFiles = [x for _, x in sorted(zip(fileBDays,allFiles), key=lambda pair: pair[0])]\n",
    "    sortedSessions = [i.split(home+cageNum+mouse+\"/\")[1].split(\"_Licks.txt\")[0] for i in sortedFiles]\n",
    "    print(sortedSessions)\n",
    "    c = pd(cageNum+mouse,sortedSessions,basedir='home')\n",
    "    c.save_sessions()\n",
    "    \n",
    "    R,D = c.load_sessions()\n",
    "    for sess in R.sessions:\n",
    "            lLick_smooth, rLick_smooth = bd.sliding_window_correct(R[sess])\n",
    "    #Rall,Dall = c.concatenate_sessions()\n",
    "    #print(Rall)\n",
    "    #bd.psychometrics(Rall,title=mouse,plots=['psych','RT'])\n",
    "    "
   ]
  },
  {
   "cell_type": "code",
   "execution_count": null,
   "metadata": {
    "collapsed": true
   },
   "outputs": [],
   "source": [
    "# psychometric curves (pr(lick right) v morph)"
   ]
  },
  {
   "cell_type": "code",
   "execution_count": null,
   "metadata": {
    "collapsed": true
   },
   "outputs": [],
   "source": [
    "# RT\n",
    "\n",
    "    # RT v morph\n",
    "    \n",
    "    \n",
    "    # RT corrrect v incorrect in binary morphs"
   ]
  },
  {
   "cell_type": "code",
   "execution_count": null,
   "metadata": {
    "collapsed": true
   },
   "outputs": [],
   "source": [
    "# running speed\n",
    "\n",
    "    # 1st half of track\n",
    "    \n",
    "        # v morph\n",
    "        \n",
    "        # correct v incorrect\n",
    "        \n",
    "        \n",
    "    # reward LED triggered \n",
    "        \n",
    "        # v morph\n",
    "        \n",
    "        # correct v incorrect\n",
    "        \n"
   ]
  }
 ],
 "metadata": {
  "kernelspec": {
   "display_name": "Python [Root]",
   "language": "python",
   "name": "Python [Root]"
  },
  "language_info": {
   "codemirror_mode": {
    "name": "ipython",
    "version": 3
   },
   "file_extension": ".py",
   "mimetype": "text/x-python",
   "name": "python",
   "nbconvert_exporter": "python",
   "pygments_lexer": "ipython3",
   "version": "3.5.2"
  }
 },
 "nbformat": 4,
 "nbformat_minor": 2
}
